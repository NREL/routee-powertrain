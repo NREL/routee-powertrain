{
 "cells": [
  {
   "cell_type": "markdown",
   "id": "e8b3ea32",
   "metadata": {},
   "source": [
    "# Temperature Models Example\n",
    "\n",
    "This example demonstrates how to use models with temperature as a feature in the Routee Powertrain library."
   ]
  },
  {
   "cell_type": "code",
   "execution_count": null,
   "id": "b9265971",
   "metadata": {},
   "outputs": [],
   "source": [
    "\n",
    "import nrel.routee.powertrain as pt\n",
    "import pandas as pd\n",
    "import matplotlib.pyplot as plt\n",
    "\n"
   ]
  },
  {
   "cell_type": "markdown",
   "id": "06d465ba",
   "metadata": {},
   "source": [
    "To demonstrate the use of temperature models, we will load a standard Tesla Model 3 RWD model (without temperature as a feature) and two temperature models (steady-state and transient) for the same vehicle. \n",
    "We will then predict energy consumption over a sample route at different ambient temperatures (72°F and 32°F) and compare the results.\n",
    "\n",
    "It's important to understand the distinction between steady-state and transient temperature models:\n",
    "- **Steady-State Temperature Models**: These models assume that the vehicle's thermal conditions have stabilized to a constant state. \n",
    "    They are typically used for longer trips where the vehicle has had sufficient time for the control systems to have stabilized the thermal environment. \n",
    "    In this example, we will use the steady-state model for the portion of the trip after the first 5 minutes at 32°F.\n",
    "- **Transient Temperature Models**: These models account for the period when the vehicle is still adjusting to the ambient temperature.\n",
    "    For example, when a vehicle starts a trip in cold weather and has been sitting outside, it takes some time for the battery and cabin to warm up."
   ]
  },
  {
   "cell_type": "code",
   "execution_count": null,
   "id": "622834d1",
   "metadata": {},
   "outputs": [],
   "source": [
    "tesla = pt.load_model(\"2022_Tesla_Model_3_RWD\")\n",
    "tesla_with_temp_steady = pt.load_model(\"2022_Tesla_Model_3_RWD_0F_110F_steady\")\n",
    "tesla_with_temp_transient = pt.load_model(\"2022_Tesla_Model_3_RWD_0F_110F_transient\")\n",
    "\n"
   ]
  },
  {
   "cell_type": "markdown",
   "id": "1ded1042",
   "metadata": {},
   "source": [
    "Load a sample route and prepare it for prediction."
   ]
  },
  {
   "cell_type": "code",
   "execution_count": null,
   "id": "11b6815c",
   "metadata": {},
   "outputs": [],
   "source": [
    "sample_route = pt.load_sample_route()\n",
    "sample_route[\"time_minutes\"] = (\n",
    "    sample_route[\"distance\"] / sample_route[\"speed_mph\"]\n",
    ") * 60\n",
    "sample_route[\"cummulative_time_minutes\"] = sample_route[\"time_minutes\"].cumsum()\n",
    "sample_route[\"cummulative_distance\"] = sample_route[\"distance\"].cumsum()\n"
   ]
  },
  {
   "cell_type": "markdown",
   "id": "2d2fecfb",
   "metadata": {},
   "source": [
    "Set the ambient temperature for the route."
   ]
  },
  {
   "cell_type": "code",
   "execution_count": null,
   "id": "1463c6d3",
   "metadata": {},
   "outputs": [],
   "source": [
    "sample_route_72F = sample_route.copy()\n",
    "sample_route_72F[\"ambient_temp_f\"] = 72\n",
    "\n",
    "sample_route_32F = sample_route.copy()\n",
    "sample_route_32F[\"ambient_temp_f\"] = 32\n",
    "\n"
   ]
  },
  {
   "cell_type": "markdown",
   "id": "cfbdc5e5",
   "metadata": {},
   "source": [
    "For the 32°F route, we will use the transient model for the first 5 minutes and the steady-state model for the remainder of the trip."
   ]
  },
  {
   "cell_type": "code",
   "execution_count": null,
   "id": "f13cf47d",
   "metadata": {},
   "outputs": [],
   "source": [
    "sample_route_32F_transient = sample_route_32F[\n",
    "    sample_route_32F[\"cummulative_time_minutes\"] <= 5\n",
    "]\n",
    "sample_route_32F_steady = sample_route_32F[\n",
    "    sample_route_32F[\"cummulative_time_minutes\"] > 5\n",
    "]\n"
   ]
  },
  {
   "cell_type": "markdown",
   "id": "69ef4293",
   "metadata": {},
   "source": [
    "Predict energy consumption using the different models and ambient temperatures."
   ]
  },
  {
   "cell_type": "code",
   "execution_count": null,
   "id": "f978f4d1",
   "metadata": {},
   "outputs": [],
   "source": [
    "energy = tesla.predict(sample_route, feature_columns=[\"speed_mph\", \"grade_percent\"])\n",
    "energy_with_temp_72F = tesla_with_temp_steady.predict(\n",
    "    sample_route_72F, feature_columns=[\"speed_mph\", \"grade_percent\", \"ambient_temp_f\"]\n",
    ")\n",
    "energy_with_temp_32F_transient = tesla_with_temp_transient.predict(\n",
    "    sample_route_32F_transient,\n",
    "    feature_columns=[\"speed_mph\", \"grade_percent\", \"ambient_temp_f\"],\n",
    ")\n",
    "energy_with_temp_32F_steady = tesla_with_temp_steady.predict(\n",
    "    sample_route_32F_steady,\n",
    "    feature_columns=[\"speed_mph\", \"grade_percent\", \"ambient_temp_f\"],\n",
    ")\n",
    "energy_with_temp_32F = pd.concat(\n",
    "    [energy_with_temp_32F_transient, energy_with_temp_32F_steady]\n",
    ")\n"
   ]
  },
  {
   "cell_type": "markdown",
   "id": "8178c7a0",
   "metadata": {},
   "source": [
    "Now, we can compare the energy consumption results."
   ]
  },
  {
   "cell_type": "code",
   "execution_count": null,
   "id": "ff0609ad",
   "metadata": {},
   "outputs": [],
   "source": [
    "energy[\"cummulative_energy_kwh\"] = energy[\"kwh\"].cumsum()\n",
    "energy_with_temp_72F[\"cummulative_energy_kwh\"] = energy_with_temp_72F[\"kwh\"].cumsum()\n",
    "energy_with_temp_32F[\"cummulative_energy_kwh\"] = energy_with_temp_32F[\"kwh\"].cumsum()\n",
    "plt.plot(\n",
    "    sample_route[\"cummulative_distance\"],\n",
    "    energy[\"cummulative_energy_kwh\"],\n",
    "    label=\"Tesla without Temperature\",\n",
    ")\n",
    "plt.plot(\n",
    "    sample_route[\"cummulative_distance\"],\n",
    "    energy_with_temp_72F[\"cummulative_energy_kwh\"],\n",
    "    label=\"Tesla with Temperature 72F\",\n",
    ")\n",
    "plt.plot(\n",
    "    sample_route[\"cummulative_distance\"],\n",
    "    energy_with_temp_32F[\"cummulative_energy_kwh\"],\n",
    "    label=\"Tesla with Temperature 32F\",\n",
    ")\n",
    "plt.xlabel(\"Cumulative Distance (miles)\")\n",
    "plt.ylabel(\"Cumulative Energy (kWh)\")\n",
    "plt.legend()\n"
   ]
  },
  {
   "cell_type": "markdown",
   "id": "50e22726",
   "metadata": {},
   "source": [
    "Notice how the energy consumption for the 32°F route is higher than the other two scenarios, reflecting the increased energy demand in colder temperatures.\n",
    "\n",
    "Something else to note is that the model that doesn't consider temperature explicitly includes a \"real world correction factor\" to account for things like temperature _on average_.\n",
    "This explains why the energy consumption for the 72°F route is slightly lower than the other two scenarios since the model without temperature adjustment is effectively averaging out the impact of temperature. \n",
    "The 72°F condition would be considered the \"ideal\" case since the vehicle does not have to expand any extra effort to maintain the cabin temperature."
   ]
  },
  {
   "cell_type": "code",
   "execution_count": null,
   "id": "33bc51ae",
   "metadata": {},
   "outputs": [],
   "source": [
    "\n"
   ]
  },
  {
   "cell_type": "markdown",
   "id": "c5e2d661",
   "metadata": {},
   "source": [
    "## Multi-Vehicle Comparison\n",
    "\n",
    "Now let's compare the Tesla Model 3 with other electric vehicles to see how different EVs perform under various temperature conditions.\n",
    "We'll load the Nissan Leaf and Chevrolet Bolt models and compare their energy consumption across different temperatures."
   ]
  },
  {
   "cell_type": "code",
   "execution_count": null,
   "id": "152f8930",
   "metadata": {},
   "outputs": [],
   "source": [
    "\n",
    "# Load Nissan Leaf models\n",
    "nissan_leaf_steady = pt.load_model(\"2016_Nissan_Leaf_30_kWh_0F_110F_steady\")\n",
    "nissan_leaf_transient = pt.load_model(\"2016_Nissan_Leaf_30_kWh_0F_110F_transient\")\n",
    "\n",
    "# Load Chevrolet Bolt models\n",
    "chevy_bolt_steady = pt.load_model(\"2020_Chevrolet_Bolt_EV_0F_110F_steady\")\n",
    "chevy_bolt_transient = pt.load_model(\"2020_Chevrolet_Bolt_EV_0F_110F_transient\")\n",
    "\n"
   ]
  },
  {
   "cell_type": "markdown",
   "id": "abec04ee",
   "metadata": {},
   "source": [
    "### Temperature Sensitivity Comparison\n",
    "Let's compare how each vehicle's energy consumption changes across a range of temperatures (0°F, 15°F, 32°F, 50°F, 72°F, 90°F, 110°F).\n",
    "We'll use steady-state models for this comparison."
   ]
  },
  {
   "cell_type": "code",
   "execution_count": null,
   "id": "98249192",
   "metadata": {},
   "outputs": [],
   "source": [
    "\n",
    "# Predict energy for all vehicles at different temperatures\n",
    "temperatures = [0, 15, 32, 50, 72, 90, 110]\n",
    "vehicles_data = {\n",
    "    \"Tesla Model 3 RWD\": tesla_with_temp_steady,\n",
    "    \"Nissan Leaf 30 kWh\": nissan_leaf_steady,\n",
    "    \"Chevrolet Bolt EV\": chevy_bolt_steady,\n",
    "}\n",
    "\n",
    "total_energy_by_temp = {vehicle: [] for vehicle in vehicles_data.keys()}\n",
    "\n",
    "for temp in temperatures:\n",
    "    route_temp = sample_route.copy()\n",
    "    route_temp[\"ambient_temp_f\"] = temp\n",
    "\n",
    "    for vehicle_name, model in vehicles_data.items():\n",
    "        energy_pred = model.predict(\n",
    "            route_temp, feature_columns=[\"speed_mph\", \"grade_percent\", \"ambient_temp_f\"]\n",
    "        )\n",
    "        total_energy_by_temp[vehicle_name].append(energy_pred[\"kwh\"].sum())\n",
    "\n",
    "# Create temperature sensitivity comparison plot\n",
    "plt.figure(figsize=(10, 6))\n",
    "for vehicle_name, energies in total_energy_by_temp.items():\n",
    "    plt.plot(\n",
    "        temperatures,\n",
    "        energies,\n",
    "        marker=\"o\",\n",
    "        linewidth=2,\n",
    "        markersize=8,\n",
    "        label=vehicle_name,\n",
    "    )\n",
    "\n",
    "plt.xlabel(\"Ambient Temperature (°F)\")\n",
    "plt.ylabel(\"Total Energy Consumption (kWh)\")\n",
    "plt.title(\"Temperature Sensitivity Comparison Across Vehicles\")\n",
    "plt.legend()\n",
    "plt.grid(True, alpha=0.3)\n"
   ]
  }
 ],
 "metadata": {},
 "nbformat": 4,
 "nbformat_minor": 5
}
