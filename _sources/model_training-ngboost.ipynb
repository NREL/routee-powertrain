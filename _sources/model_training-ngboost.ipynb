{
 "cells": [
  {
   "cell_type": "markdown",
   "metadata": {},
   "source": [
    "# Model Training (NGBoost)\n",
    "\n",
    "If you have your own ground truth energy data, you can train a custom RouteE powertrain model.\n",
    "\n",
    "You'll want to make sure you've installed the proper dependencies that are not installed by default when you do a pip install. \n",
    "\n",
    "In this example, we'll use the NGBoost trainer and estimator which you can install by doing:\n",
    "\n",
    "```bash\n",
    "pip install ngboost\n",
    "```"
   ]
  },
  {
   "cell_type": "code",
   "execution_count": 1,
   "metadata": {},
   "outputs": [],
   "source": [
    "import nrel.routee.powertrain as pt\n",
    "\n",
    "from nrel.routee.powertrain.trainers.ngboost_trainer import NGBoostTrainer\n",
    "\n",
    "\n",
    "import pandas as pd\n",
    "\n"
   ]
  },
  {
   "cell_type": "markdown",
   "metadata": {},
   "source": [
    "For demonstration purposes, we'll use a very small set of training data.\n",
    "You can access this dataset yourself [here](https://github.com/NREL/routee-powertrain/blob/main/tests/routee-powertrain-test-data/sample_train_data.csv)"
   ]
  },
  {
   "cell_type": "code",
   "execution_count": 2,
   "metadata": {},
   "outputs": [],
   "source": [
    "\n",
    "df = pd.read_csv(\"../tests/routee-powertrain-test-data/sample_train_data.csv\")"
   ]
  },
  {
   "cell_type": "code",
   "execution_count": 3,
   "metadata": {},
   "outputs": [
    {
     "data": {
      "text/html": [
       "<div>\n",
       "<style scoped>\n",
       "    .dataframe tbody tr th:only-of-type {\n",
       "        vertical-align: middle;\n",
       "    }\n",
       "\n",
       "    .dataframe tbody tr th {\n",
       "        vertical-align: top;\n",
       "    }\n",
       "\n",
       "    .dataframe thead th {\n",
       "        text-align: right;\n",
       "    }\n",
       "</style>\n",
       "<table border=\"1\" class=\"dataframe\">\n",
       "  <thead>\n",
       "    <tr style=\"text-align: right;\">\n",
       "      <th></th>\n",
       "      <th>speed_mph</th>\n",
       "      <th>grade_dec</th>\n",
       "      <th>miles</th>\n",
       "      <th>gge</th>\n",
       "      <th>trip_id</th>\n",
       "      <th>road_class</th>\n",
       "    </tr>\n",
       "  </thead>\n",
       "  <tbody>\n",
       "    <tr>\n",
       "      <th>0</th>\n",
       "      <td>7.632068</td>\n",
       "      <td>-0.008963</td>\n",
       "      <td>0.015469</td>\n",
       "      <td>0.000813</td>\n",
       "      <td>1</td>\n",
       "      <td>3</td>\n",
       "    </tr>\n",
       "    <tr>\n",
       "      <th>1</th>\n",
       "      <td>6.329613</td>\n",
       "      <td>-0.047001</td>\n",
       "      <td>0.003516</td>\n",
       "      <td>0.000149</td>\n",
       "      <td>1</td>\n",
       "      <td>3</td>\n",
       "    </tr>\n",
       "    <tr>\n",
       "      <th>2</th>\n",
       "      <td>12.248512</td>\n",
       "      <td>0.000000</td>\n",
       "      <td>0.003402</td>\n",
       "      <td>0.000074</td>\n",
       "      <td>1</td>\n",
       "      <td>4</td>\n",
       "    </tr>\n",
       "    <tr>\n",
       "      <th>3</th>\n",
       "      <td>23.752604</td>\n",
       "      <td>-0.000463</td>\n",
       "      <td>0.019768</td>\n",
       "      <td>0.002194</td>\n",
       "      <td>1</td>\n",
       "      <td>1</td>\n",
       "    </tr>\n",
       "    <tr>\n",
       "      <th>4</th>\n",
       "      <td>46.024926</td>\n",
       "      <td>-0.004641</td>\n",
       "      <td>0.038378</td>\n",
       "      <td>0.000970</td>\n",
       "      <td>1</td>\n",
       "      <td>0</td>\n",
       "    </tr>\n",
       "  </tbody>\n",
       "</table>\n",
       "</div>"
      ],
      "text/plain": [
       "   speed_mph  grade_dec     miles       gge  trip_id  road_class\n",
       "0   7.632068  -0.008963  0.015469  0.000813        1           3\n",
       "1   6.329613  -0.047001  0.003516  0.000149        1           3\n",
       "2  12.248512   0.000000  0.003402  0.000074        1           4\n",
       "3  23.752604  -0.000463  0.019768  0.002194        1           1\n",
       "4  46.024926  -0.004641  0.038378  0.000970        1           0"
      ]
     },
     "execution_count": 3,
     "metadata": {},
     "output_type": "execute_result"
    }
   ],
   "source": [
    "# Load the data\n",
    "df = pd.read_csv(\"../tests/routee-powertrain-test-data/sample_train_data.csv\")\n",
    "df.rename(columns={'gallons_fastsim': 'gge'}, inplace=True)\n",
    "df = df.dropna()\n",
    "df.head()"
   ]
  },
  {
   "cell_type": "markdown",
   "metadata": {},
   "source": [
    "This dataframe represents a set of road network links (i.e. roads) in which we've already computed the energy consumption over. In this case, we've use the Fastsim software to simulate a vehicle driving over a high resolution drive cycle and then have aggregated everything up to the link level. We also have link level attributes like average driving speed in mile per hour (`speed`), road gradient as a decimal (`grade`), road distance in miles (`miles`) and road classification as a integer category (`road_class`). Lastly, we have a trip identifier column (`trip_id`) which is only 1 in this case, represeting a single trip taken by this vehicle.\n",
    "\n",
    "Ok, onto setting up the training pipeline.\n",
    "\n",
    "First, we need to tell the trainer what feature sets we want to use for the internal estimators (Random Forests in this case). We can provide one or many feature sets, depending on the different features we might expect to see when apply this model. In this case, we'll just use three different features sets. One with just `speed`, one with `speed` and `grade` and then another with `speed`, `grade`, and `road_class`. This will make it such that our model is flexible to cases where we might only have speed information for a link or we might have more feature resolution.  "
   ]
  },
  {
   "cell_type": "code",
   "execution_count": 4,
   "metadata": {},
   "outputs": [],
   "source": [
    "feature_set_1 = [pt.DataColumn(name=\"speed_mph\", units=\"mph\")]\n",
    "feature_set_2 = [\n",
    "    pt.DataColumn(name=\"speed_mph\", units=\"mph\"),\n",
    "    pt.DataColumn(name=\"grade_dec\", units=\"decimal\")\n",
    "]\n",
    "feature_set_3 = [\n",
    "    pt.DataColumn(name=\"speed_mph\", units=\"mph\"),\n",
    "    pt.DataColumn(name=\"grade_dec\", units=\"decimal\"),\n",
    "    pt.DataColumn(name=\"road_class\", units=\"category\")\n",
    "]\n",
    "features = [\n",
    "    feature_set_1,\n",
    "    feature_set_2,\n",
    "    feature_set_3\n",
    "]"
   ]
  },
  {
   "cell_type": "markdown",
   "metadata": {},
   "source": [
    "Note that we didn't incude the distance column in any of our feature sets. That is because, RouteE Powertrain always requires distance information and so we have a special designation for distance in the training configuation whereas features can be any arbitrary link attribute. So, let's define our distance columns"
   ]
  },
  {
   "cell_type": "code",
   "execution_count": 5,
   "metadata": {},
   "outputs": [],
   "source": [
    "distance = pt.DataColumn(name=\"miles\", units=\"miles\")"
   ]
  },
  {
   "cell_type": "markdown",
   "metadata": {},
   "source": [
    "Now, we need to define our energy target which is gallons of gasoline simualted by Fastsim:"
   ]
  },
  {
   "cell_type": "code",
   "execution_count": 6,
   "metadata": {},
   "outputs": [],
   "source": [
    "energy_target = pt.DataColumn(\n",
    "    name=\"gge\", \n",
    "    units=\"gallons_gasoline\", \n",
    ")"
   ]
  },
  {
   "cell_type": "markdown",
   "metadata": {},
   "source": [
    "We also need to decide how we want to predict the energy.\n",
    "We have two options: \"rate\" or \"raw\".\n",
    "\"rate\" will take our energy values and divide them by the distance column to arrive at and energy rate.\n",
    "Then, the estimator will be trained to predict the rate value (without using distance as a feature) and then the model will multiply the rate value by the incoming link distance to give a final raw energy value.\n",
    "This can be useful in your training data is sparse as it allows the model to be flexible to distance.\n",
    "\"raw\" will tell the estimator to predict the energy on the link directly, using distance as an explicit feature.\n",
    "This can be more robust for situations where the energy rate on a link might vary with respect to distance but can lead to weird results if there are not a good representation of different distance values in the training dataset.\n",
    "In our case we'll use \"rate\" since our training data is very sparse."
   ]
  },
  {
   "cell_type": "code",
   "execution_count": 7,
   "metadata": {},
   "outputs": [],
   "source": [
    "predict_method = \"rate\""
   ]
  },
  {
   "cell_type": "markdown",
   "metadata": {},
   "source": [
    "Finally, we can build a model configuration that we can pass to the trainer. This will also include things like the vehicle powertrain type and a model name"
   ]
  },
  {
   "cell_type": "code",
   "execution_count": 8,
   "metadata": {},
   "outputs": [],
   "source": [
    "config = pt.ModelConfig(\n",
    "    vehicle_description=\"Test Vehicle\",\n",
    "    powertrain_type=pt.PowertrainType.ICE,\n",
    "    feature_sets=features,\n",
    "    distance=distance,\n",
    "    target=energy_target,\n",
    "    test_size=0.2,\n",
    "    predict_method=predict_method\n",
    ")"
   ]
  },
  {
   "cell_type": "markdown",
   "metadata": {},
   "source": [
    "Now we build the random forest trainer and give it the desired parameters"
   ]
  },
  {
   "cell_type": "code",
   "execution_count": 9,
   "metadata": {},
   "outputs": [],
   "source": [
    "trainer = NGBoostTrainer(n_estimators=100)"
   ]
  },
  {
   "cell_type": "markdown",
   "metadata": {},
   "source": [
    "All trainers have a `train` method on them which will return a trained vehicle model"
   ]
  },
  {
   "cell_type": "code",
   "execution_count": 10,
   "metadata": {},
   "outputs": [
    {
     "name": "stdout",
     "output_type": "stream",
     "text": [
      "[iter 0] loss=-1.8281 val_loss=0.0000 scale=2.0000 norm=0.9229\n",
      "[iter 20] loss=-2.0561 val_loss=0.0000 scale=2.0000 norm=0.6237\n",
      "[iter 40] loss=-2.1728 val_loss=0.0000 scale=2.0000 norm=0.6440\n",
      "[iter 60] loss=-2.2729 val_loss=0.0000 scale=2.0000 norm=0.6562\n",
      "[iter 80] loss=-2.3627 val_loss=0.0000 scale=2.0000 norm=0.6721\n",
      "[iter 0] loss=-1.8281 val_loss=0.0000 scale=1.0000 norm=0.4615\n",
      "[iter 20] loss=-1.9869 val_loss=0.0000 scale=1.0000 norm=0.3494\n",
      "[iter 40] loss=-2.1154 val_loss=0.0000 scale=2.0000 norm=0.6274\n",
      "[iter 60] loss=-2.2324 val_loss=0.0000 scale=2.0000 norm=0.6587\n",
      "[iter 80] loss=-2.3335 val_loss=0.0000 scale=2.0000 norm=0.6733\n",
      "[iter 0] loss=-1.8281 val_loss=0.0000 scale=1.0000 norm=0.4615\n",
      "[iter 20] loss=-1.9869 val_loss=0.0000 scale=1.0000 norm=0.3494\n",
      "[iter 40] loss=-2.1156 val_loss=0.0000 scale=2.0000 norm=0.6275\n",
      "[iter 60] loss=-2.2329 val_loss=0.0000 scale=2.0000 norm=0.6575\n",
      "[iter 80] loss=-2.3344 val_loss=0.0000 scale=2.0000 norm=0.6724\n"
     ]
    }
   ],
   "source": [
    "test_vehicle = trainer.train(df, config)"
   ]
  },
  {
   "cell_type": "markdown",
   "metadata": {},
   "source": [
    "With the model trained, we can inspect the errors for each estimator type and energy target (note, it's possible that we could have given multiple energy targets to the trainer, like gasoline and electricity for a plug-in hybrid vehicle)"
   ]
  },
  {
   "cell_type": "code",
   "execution_count": 11,
   "metadata": {},
   "outputs": [
    {
     "data": {
      "text/html": [
       "<table border=\"1\" style=\"border-collapse: collapse;\"><tr><td colspan='2' style='border-bottom: 2px solid black;text-align: center;'><b>Estimator Errors</b></td></tr><tr><td>Feature Set ID</td><td>speed_mph</td></tr><tr><td>Target</td><td>gge</td></tr><tr><td>Link RMSE</td><td>0.00147</td></tr><tr><td>Link Norm RMSE</td><td>0.92759</td></tr><tr><td>Link Weighted RPD</td><td>0.76701</td></tr><tr><td>Net Error</td><td>-0.29279</td></tr><tr><td>Actual Dist/Energy</td><td>18.87243</td></tr><tr><td>Predicted Dist/Energy</td><td>26.68559</td></tr><tr><td>Real World Predicted Dist/Energy</td><td>22.88644</td></tr><tr><td>Trip RPD</td><td>0.34300</td></tr><tr><td>Trip Weighted RPD</td><td>0.34300</td></tr><tr><td>Trip RMSE</td><td>0.01204</td></tr><tr><td>Trip Norm RMSE</td><td>0.29279</td></tr><tr><td>Link NLL</td><td>35.87225</td></tr><tr><td>Link CRPS</td><td>0.00074</td></tr><tr><td>Link PICP</td><td>0.77000</td></tr><tr><td colspan='2' style='border-bottom: 2px solid black;text-align: center;'><b>Estimator Errors</b></td></tr><tr><td>Feature Set ID</td><td>grade_dec&speed_mph</td></tr><tr><td>Target</td><td>gge</td></tr><tr><td>Link RMSE</td><td>0.00134</td></tr><tr><td>Link Norm RMSE</td><td>0.84574</td></tr><tr><td>Link Weighted RPD</td><td>0.66150</td></tr><tr><td>Net Error</td><td>-0.22083</td></tr><tr><td>Actual Dist/Energy</td><td>18.87243</td></tr><tr><td>Predicted Dist/Energy</td><td>24.22131</td></tr><tr><td>Real World Predicted Dist/Energy</td><td>20.77299</td></tr><tr><td>Trip RPD</td><td>0.24824</td></tr><tr><td>Trip Weighted RPD</td><td>0.24824</td></tr><tr><td>Trip RMSE</td><td>0.00908</td></tr><tr><td>Trip Norm RMSE</td><td>0.22083</td></tr><tr><td>Link NLL</td><td>28.80077</td></tr><tr><td>Link CRPS</td><td>0.00067</td></tr><tr><td>Link PICP</td><td>0.77000</td></tr><tr><td colspan='2' style='border-bottom: 2px solid black;text-align: center;'><b>Estimator Errors</b></td></tr><tr><td>Feature Set ID</td><td>grade_dec&road_class&speed_mph</td></tr><tr><td>Target</td><td>gge</td></tr><tr><td>Link RMSE</td><td>0.00134</td></tr><tr><td>Link Norm RMSE</td><td>0.84576</td></tr><tr><td>Link Weighted RPD</td><td>0.66152</td></tr><tr><td>Net Error</td><td>-0.22085</td></tr><tr><td>Actual Dist/Energy</td><td>18.87243</td></tr><tr><td>Predicted Dist/Energy</td><td>24.22193</td></tr><tr><td>Real World Predicted Dist/Energy</td><td>20.77352</td></tr><tr><td>Trip RPD</td><td>0.24827</td></tr><tr><td>Trip Weighted RPD</td><td>0.24827</td></tr><tr><td>Trip RMSE</td><td>0.00908</td></tr><tr><td>Trip Norm RMSE</td><td>0.22085</td></tr><tr><td>Link NLL</td><td>29.10197</td></tr><tr><td>Link CRPS</td><td>0.00067</td></tr><tr><td>Link PICP</td><td>0.77000</td></tr></table>"
      ],
      "text/plain": [
       "====================================================\n",
       "Feature Set ID:                  speed_mph\n",
       "Target:                          gge\n",
       "Link RMSE                        0.001\n",
       "Link Norm RMSE                   0.928\n",
       "Link Weighted RPD                0.767\n",
       "Net Error                        -0.293\n",
       "Actual Dist/Energy               18.872\n",
       "Predicted Dist/Energy            26.686\n",
       "Real World Predicted Dist/Energy 22.886\n",
       "Trip RPD                         0.343\n",
       "Trip Weighted RPD                0.343\n",
       "Trip RMSE                        0.012\n",
       "Trip Norm RMSE                   0.293\n",
       "Link NLL                         35.872\n",
       "Link CRPS                        0.001\n",
       "Link PICP                        0.770\n",
       "====================================================\n",
       "Feature Set ID:                  grade_dec&speed_mph\n",
       "Target:                          gge\n",
       "Link RMSE                        0.001\n",
       "Link Norm RMSE                   0.846\n",
       "Link Weighted RPD                0.662\n",
       "Net Error                        -0.221\n",
       "Actual Dist/Energy               18.872\n",
       "Predicted Dist/Energy            24.221\n",
       "Real World Predicted Dist/Energy 20.773\n",
       "Trip RPD                         0.248\n",
       "Trip Weighted RPD                0.248\n",
       "Trip RMSE                        0.009\n",
       "Trip Norm RMSE                   0.221\n",
       "Link NLL                         28.801\n",
       "Link CRPS                        0.001\n",
       "Link PICP                        0.770\n",
       "====================================================\n",
       "Feature Set ID:                  grade_dec&road_class&speed_mph\n",
       "Target:                          gge\n",
       "Link RMSE                        0.001\n",
       "Link Norm RMSE                   0.846\n",
       "Link Weighted RPD                0.662\n",
       "Net Error                        -0.221\n",
       "Actual Dist/Energy               18.872\n",
       "Predicted Dist/Energy            24.222\n",
       "Real World Predicted Dist/Energy 20.774\n",
       "Trip RPD                         0.248\n",
       "Trip Weighted RPD                0.248\n",
       "Trip RMSE                        0.009\n",
       "Trip Norm RMSE                   0.221\n",
       "Link NLL                         29.102\n",
       "Link CRPS                        0.001\n",
       "Link PICP                        0.770\n",
       "===================================================="
      ]
     },
     "execution_count": 11,
     "metadata": {},
     "output_type": "execute_result"
    }
   ],
   "source": [
    "test_vehicle.errors\n"
   ]
  },
  {
   "cell_type": "markdown",
   "metadata": {},
   "source": [
    "To use this model to predict results on a dataframe, use the following code:"
   ]
  },
  {
   "cell_type": "code",
   "execution_count": 12,
   "metadata": {},
   "outputs": [
    {
     "data": {
      "text/html": [
       "<div>\n",
       "<style scoped>\n",
       "    .dataframe tbody tr th:only-of-type {\n",
       "        vertical-align: middle;\n",
       "    }\n",
       "\n",
       "    .dataframe tbody tr th {\n",
       "        vertical-align: top;\n",
       "    }\n",
       "\n",
       "    .dataframe thead th {\n",
       "        text-align: right;\n",
       "    }\n",
       "</style>\n",
       "<table border=\"1\" class=\"dataframe\">\n",
       "  <thead>\n",
       "    <tr style=\"text-align: right;\">\n",
       "      <th></th>\n",
       "      <th>gge</th>\n",
       "      <th>gge_std</th>\n",
       "    </tr>\n",
       "  </thead>\n",
       "  <tbody>\n",
       "    <tr>\n",
       "      <th>0</th>\n",
       "      <td>0.000852</td>\n",
       "      <td>0.000296</td>\n",
       "    </tr>\n",
       "    <tr>\n",
       "      <th>1</th>\n",
       "      <td>0.000152</td>\n",
       "      <td>0.000065</td>\n",
       "    </tr>\n",
       "    <tr>\n",
       "      <th>2</th>\n",
       "      <td>0.000171</td>\n",
       "      <td>0.000106</td>\n",
       "    </tr>\n",
       "    <tr>\n",
       "      <th>3</th>\n",
       "      <td>0.001199</td>\n",
       "      <td>0.000789</td>\n",
       "    </tr>\n",
       "    <tr>\n",
       "      <th>4</th>\n",
       "      <td>0.001252</td>\n",
       "      <td>0.000776</td>\n",
       "    </tr>\n",
       "  </tbody>\n",
       "</table>\n",
       "</div>"
      ],
      "text/plain": [
       "        gge   gge_std\n",
       "0  0.000852  0.000296\n",
       "1  0.000152  0.000065\n",
       "2  0.000171  0.000106\n",
       "3  0.001199  0.000789\n",
       "4  0.001252  0.000776"
      ]
     },
     "execution_count": 12,
     "metadata": {},
     "output_type": "execute_result"
    }
   ],
   "source": [
    "result_df = test_vehicle.predict(df, ['grade_dec', 'speed_mph','road_class'], 'miles', True)\n",
    "result_df.head()"
   ]
  },
  {
   "cell_type": "markdown",
   "metadata": {},
   "source": [
    "While this training dataset is far too small to draw real conclusions, these metrics can give you an idea of how well the model performed on a holdout test set (20% of the training data as we specificed by the `test_size` parameter in the configuration. "
   ]
  },
  {
   "cell_type": "markdown",
   "metadata": {},
   "source": [
    "Now, we can write the model to a json file that can be loaded later:\n",
    "\n",
    "```python\n",
    "test_vehicle.to_file(\"Test_Vehicle.bin\")\n",
    "```"
   ]
  },
  {
   "cell_type": "code",
   "execution_count": 13,
   "metadata": {},
   "outputs": [],
   "source": [
    "test_vehicle.to_file(\"Test_Vehicle.json\")"
   ]
  },
  {
   "cell_type": "markdown",
   "metadata": {},
   "source": [
    "To retrieve a saved model from a json file for further use can be done by doing the following:"
   ]
  },
  {
   "cell_type": "code",
   "execution_count": null,
   "metadata": {},
   "outputs": [],
   "source": [
    "test_vehicle = pt.Model.from_file(\"Test_Vehicle.json\")"
   ]
  },
  {
   "cell_type": "markdown",
   "metadata": {},
   "source": [
    "## RouteE Compass Integration\n",
    "\n",
    "If you want to use this model with RouteE Compass, you can export any of the estimators as binary file and that can be loaded into RouteE Compass.\n",
    "\n",
    "In this case, we have three estimators:"
   ]
  },
  {
   "cell_type": "code",
   "execution_count": 12,
   "metadata": {},
   "outputs": [
    {
     "data": {
      "text/plain": [
       "{'speed_mph': <nrel.routee.powertrain.estimators.ngboost_estimator.NGBoostEstimator at 0x1597b3910>,\n",
       " 'grade_dec&speed_mph': <nrel.routee.powertrain.estimators.ngboost_estimator.NGBoostEstimator at 0x159802b90>,\n",
       " 'grade_dec&road_class&speed_mph': <nrel.routee.powertrain.estimators.ngboost_estimator.NGBoostEstimator at 0x159890850>}"
      ]
     },
     "execution_count": 12,
     "metadata": {},
     "output_type": "execute_result"
    }
   ],
   "source": [
    "test_vehicle.estimators"
   ]
  },
  {
   "cell_type": "markdown",
   "metadata": {},
   "source": [
    "For this example, we'll take the estimator with speed and grade as features and export it to a binary file."
   ]
  },
  {
   "cell_type": "code",
   "execution_count": 17,
   "metadata": {},
   "outputs": [],
   "source": [
    "test_vehicle.estimators['grade_dec&speed_mph'].to_file(\"test_vehicle_speed_grade.bin\")"
   ]
  },
  {
   "cell_type": "markdown",
   "metadata": {},
   "source": [
    "Now we can load `test_vehicle_speed_grade.bin` into RouteE Comapss"
   ]
  },
  {
   "cell_type": "code",
   "execution_count": null,
   "metadata": {},
   "outputs": [],
   "source": []
  }
 ],
 "metadata": {
  "kernelspec": {
   "display_name": "Python 3",
   "language": "python",
   "name": "python3"
  },
  "language_info": {
   "codemirror_mode": {
    "name": "ipython",
    "version": 3
   },
   "file_extension": ".py",
   "mimetype": "text/x-python",
   "name": "python",
   "nbconvert_exporter": "python",
   "pygments_lexer": "ipython3",
   "version": "3.9.6"
  },
  "widgets": {
   "application/vnd.jupyter.widget-state+json": {
    "state": {},
    "version_major": 2,
    "version_minor": 0
   }
  }
 },
 "nbformat": 4,
 "nbformat_minor": 4
}
