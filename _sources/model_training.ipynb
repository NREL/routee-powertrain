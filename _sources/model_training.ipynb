{
 "cells": [
  {
   "cell_type": "markdown",
   "metadata": {},
   "source": [
    "# Model Training\n",
    "\n",
    "If you have your own ground truth energy data, you can train a custom RouteE powertrain model.\n",
    "\n",
    "You'll want to make sure you've installed the proper dependencies that are not installed by default when you do a pip install. \n",
    "\n",
    "In this example, we'll use the scikit-learn based estimators which you can install by doing:\n",
    "\n",
    "```bash\n",
    "pip install nrel.routee.powertrain[scikit]\n",
    "```"
   ]
  },
  {
   "cell_type": "code",
   "execution_count": 1,
   "metadata": {},
   "outputs": [],
   "source": [
    "import nrel.routee.powertrain as pt\n",
    "\n",
    "from nrel.routee.powertrain.trainers.sklearn_random_forest import SklearnRandomForestTrainer"
   ]
  },
  {
   "cell_type": "markdown",
   "metadata": {},
   "source": [
    "For demonstration purposes, we'll use a very small set of training data:"
   ]
  },
  {
   "cell_type": "code",
   "execution_count": 2,
   "metadata": {},
   "outputs": [],
   "source": [
    "import pandas as pd\n",
    "\n",
    "df = pd.read_csv(\"../tests/routee-powertrain-test-data/sample_train_data.csv\")"
   ]
  },
  {
   "cell_type": "code",
   "execution_count": 3,
   "metadata": {},
   "outputs": [
    {
     "data": {
      "text/html": [
       "<div>\n",
       "<style scoped>\n",
       "    .dataframe tbody tr th:only-of-type {\n",
       "        vertical-align: middle;\n",
       "    }\n",
       "\n",
       "    .dataframe tbody tr th {\n",
       "        vertical-align: top;\n",
       "    }\n",
       "\n",
       "    .dataframe thead th {\n",
       "        text-align: right;\n",
       "    }\n",
       "</style>\n",
       "<table border=\"1\" class=\"dataframe\">\n",
       "  <thead>\n",
       "    <tr style=\"text-align: right;\">\n",
       "      <th></th>\n",
       "      <th>speed_mph</th>\n",
       "      <th>grade_dec</th>\n",
       "      <th>miles</th>\n",
       "      <th>gallons_fastsim</th>\n",
       "      <th>trip_id</th>\n",
       "      <th>road_class</th>\n",
       "    </tr>\n",
       "  </thead>\n",
       "  <tbody>\n",
       "    <tr>\n",
       "      <th>0</th>\n",
       "      <td>7.632068</td>\n",
       "      <td>-0.008963</td>\n",
       "      <td>0.015469</td>\n",
       "      <td>0.000813</td>\n",
       "      <td>1</td>\n",
       "      <td>3</td>\n",
       "    </tr>\n",
       "    <tr>\n",
       "      <th>1</th>\n",
       "      <td>6.329613</td>\n",
       "      <td>-0.047001</td>\n",
       "      <td>0.003516</td>\n",
       "      <td>0.000149</td>\n",
       "      <td>1</td>\n",
       "      <td>3</td>\n",
       "    </tr>\n",
       "    <tr>\n",
       "      <th>2</th>\n",
       "      <td>12.248512</td>\n",
       "      <td>0.000000</td>\n",
       "      <td>0.003402</td>\n",
       "      <td>0.000074</td>\n",
       "      <td>1</td>\n",
       "      <td>4</td>\n",
       "    </tr>\n",
       "    <tr>\n",
       "      <th>3</th>\n",
       "      <td>23.752604</td>\n",
       "      <td>-0.000463</td>\n",
       "      <td>0.019768</td>\n",
       "      <td>0.002194</td>\n",
       "      <td>1</td>\n",
       "      <td>1</td>\n",
       "    </tr>\n",
       "    <tr>\n",
       "      <th>4</th>\n",
       "      <td>46.024926</td>\n",
       "      <td>-0.004641</td>\n",
       "      <td>0.038378</td>\n",
       "      <td>0.000970</td>\n",
       "      <td>1</td>\n",
       "      <td>0</td>\n",
       "    </tr>\n",
       "  </tbody>\n",
       "</table>\n",
       "</div>"
      ],
      "text/plain": [
       "   speed_mph  grade_dec     miles  gallons_fastsim  trip_id  road_class\n",
       "0   7.632068  -0.008963  0.015469         0.000813        1           3\n",
       "1   6.329613  -0.047001  0.003516         0.000149        1           3\n",
       "2  12.248512   0.000000  0.003402         0.000074        1           4\n",
       "3  23.752604  -0.000463  0.019768         0.002194        1           1\n",
       "4  46.024926  -0.004641  0.038378         0.000970        1           0"
      ]
     },
     "execution_count": 3,
     "metadata": {},
     "output_type": "execute_result"
    }
   ],
   "source": [
    "df.head()"
   ]
  },
  {
   "cell_type": "markdown",
   "metadata": {},
   "source": [
    "This dataframe represents a set of road network links (i.e. roads) in which we've already computed the energy consumption over. In this case, we've use the Fastsim software to simulate a vehicle driving over a high resolution drive cycle and then have aggregated everything up to the link level. We also have link level attributes like average driving speed in mile per hour (`speed`), road gradient as a decimal (`grade`), road distance in miles (`miles`) and road classification as a integer category (`road_class`). Lastly, we have a trip identifier column (`trip_id`) which is only 1 in this case, represeting a single trip taken by this vehicle.\n",
    "\n",
    "Ok, onto setting up the training pipeline.\n",
    "\n",
    "First, we need to tell the trainer what feature sets we want to use for the internal estimators (Random Forests in this case). We can provide one or many feature sets, depending on the different features we might expect to see when apply this model. In this case, we'll just use three different features sets. One with just `speed`, one with `speed` and `grade` and then another with `speed`, `grade`, and `road_class`. This will make it such that our model is flexible to cases where we might only have speed information for a link or we might have more feature resolution.  "
   ]
  },
  {
   "cell_type": "code",
   "execution_count": 10,
   "metadata": {},
   "outputs": [],
   "source": [
    "feature_set_1 = [pt.DataColumn(name=\"speed_mph\", units=\"mph\")]\n",
    "feature_set_2 = [\n",
    "    pt.DataColumn(name=\"speed_mph\", units=\"mph\"),\n",
    "    pt.DataColumn(name=\"grade_dec\", units=\"decimal\")\n",
    "]\n",
    "feature_set_3 = [\n",
    "    pt.DataColumn(name=\"speed_mph\", units=\"mph\"),\n",
    "    pt.DataColumn(name=\"grade_dec\", units=\"decimal\"),\n",
    "    pt.DataColumn(name=\"road_class\", units=\"category\")\n",
    "]\n",
    "features = [\n",
    "    feature_set_1,\n",
    "    feature_set_2,\n",
    "    feature_set_3\n",
    "]"
   ]
  },
  {
   "cell_type": "markdown",
   "metadata": {},
   "source": [
    "Note that we didn't incude the distance column in any of our feature sets. That is because, RouteE Powertrain always requires distance information and so we have a special designation for distance in the training configuation whereas features can be any arbitrary link attribute. So, let's define our distance columns"
   ]
  },
  {
   "cell_type": "code",
   "execution_count": 11,
   "metadata": {},
   "outputs": [],
   "source": [
    "distance = pt.DataColumn(name=\"miles\", units=\"miles\")"
   ]
  },
  {
   "cell_type": "markdown",
   "metadata": {},
   "source": [
    "Now, we need to define our energy target which is gallons of gasoline simualted by Fastsim:"
   ]
  },
  {
   "cell_type": "code",
   "execution_count": 12,
   "metadata": {},
   "outputs": [],
   "source": [
    "energy_target = pt.DataColumn(\n",
    "    name=\"gallons_fastsim\", \n",
    "    units=\"gallons_gasoline\", \n",
    ")"
   ]
  },
  {
   "cell_type": "markdown",
   "metadata": {},
   "source": [
    "Finally, we can build a model configuration that we can pass to the trainer. This will also include things like the vehicle powertrain type and a model name"
   ]
  },
  {
   "cell_type": "code",
   "execution_count": 13,
   "metadata": {},
   "outputs": [],
   "source": [
    "config = pt.ModelConfig(\n",
    "    vehicle_description=\"Test Vehicle\",\n",
    "    powertrain_type=pt.PowertrainType.ICE,\n",
    "    feature_sets=features,\n",
    "    distance=distance,\n",
    "    target=energy_target,\n",
    "    test_size=0.2\n",
    ")"
   ]
  },
  {
   "cell_type": "markdown",
   "metadata": {},
   "source": [
    "Now we build the random forest trainer and give it the desired parameters"
   ]
  },
  {
   "cell_type": "code",
   "execution_count": 14,
   "metadata": {},
   "outputs": [],
   "source": [
    "trainer = SklearnRandomForestTrainer(\n",
    "    max_depth=10,\n",
    "    min_samples_split=10,\n",
    "    n_estimators=20,\n",
    "    cores=4\n",
    ")"
   ]
  },
  {
   "cell_type": "markdown",
   "metadata": {},
   "source": [
    "All trainers have a `train` method on them which will return a trained vehicle model"
   ]
  },
  {
   "cell_type": "code",
   "execution_count": 15,
   "metadata": {},
   "outputs": [
    {
     "name": "stderr",
     "output_type": "stream",
     "text": [
      "2023-10-23 16:05:56,833 [INFO] - filtered out 0 rows with energy rates outside of the limits of -inf and inf for energy target gallons_fastsim\n"
     ]
    }
   ],
   "source": [
    "test_vehicle = trainer.train(df, config)"
   ]
  },
  {
   "cell_type": "markdown",
   "metadata": {},
   "source": [
    "With the model trained, we can inspect the errors for each estimator type and energy target (note, it's possible that we could have given multiple energy targets to the trainer, like gasoline and electricity for a plug-in hybrid vehicle)"
   ]
  },
  {
   "cell_type": "code",
   "execution_count": 16,
   "metadata": {},
   "outputs": [
    {
     "data": {
      "text/html": [
       "<table border=\"1\" style=\"border-collapse: collapse;\"><tr><td colspan='2' style='border-bottom: 2px solid black;text-align: center;'><b>Estimator Errors</b></td></tr><tr><td>Feature Set ID</td><td>speed_mph</td></tr><tr><td>Target</td><td>gallons_fastsim</td></tr><tr><td>Link RMSE</td><td>0.00162</td></tr><tr><td>Link Norm RMSE</td><td>1.02617</td></tr><tr><td>Link Weighted RPD</td><td>0.84957</td></tr><tr><td>Net Error</td><td>-0.34643</td></tr><tr><td>Actual Dist/Energy</td><td>18.87243</td></tr><tr><td>Predicted Dist/Energy</td><td>28.87586</td></tr><tr><td>Real World Predicted Dist/Energy</td><td>24.76489</td></tr><tr><td>Trip RPD</td><td>0.41901</td></tr><tr><td>Trip Weighted RPD</td><td>0.41901</td></tr><tr><td>Trip RMSE</td><td>0.01425</td></tr><tr><td>Trip Norm RMSE</td><td>0.34643</td></tr><tr><td colspan='2' style='border-bottom: 2px solid black;text-align: center;'><b>Estimator Errors</b></td></tr><tr><td>Feature Set ID</td><td>grade_dec&speed_mph</td></tr><tr><td>Target</td><td>gallons_fastsim</td></tr><tr><td>Link RMSE</td><td>0.00138</td></tr><tr><td>Link Norm RMSE</td><td>0.87020</td></tr><tr><td>Link Weighted RPD</td><td>0.61434</td></tr><tr><td>Net Error</td><td>-0.16459</td></tr><tr><td>Actual Dist/Energy</td><td>18.87243</td></tr><tr><td>Predicted Dist/Energy</td><td>22.59067</td></tr><tr><td>Real World Predicted Dist/Energy</td><td>19.37450</td></tr><tr><td>Trip RPD</td><td>0.17935</td></tr><tr><td>Trip Weighted RPD</td><td>0.17935</td></tr><tr><td>Trip RMSE</td><td>0.00677</td></tr><tr><td>Trip Norm RMSE</td><td>0.16459</td></tr><tr><td colspan='2' style='border-bottom: 2px solid black;text-align: center;'><b>Estimator Errors</b></td></tr><tr><td>Feature Set ID</td><td>grade_dec&road_class&speed_mph</td></tr><tr><td>Target</td><td>gallons_fastsim</td></tr><tr><td>Link RMSE</td><td>0.00138</td></tr><tr><td>Link Norm RMSE</td><td>0.87389</td></tr><tr><td>Link Weighted RPD</td><td>0.60147</td></tr><tr><td>Net Error</td><td>-0.14991</td></tr><tr><td>Actual Dist/Energy</td><td>18.87243</td></tr><tr><td>Predicted Dist/Energy</td><td>22.20060</td></tr><tr><td>Real World Predicted Dist/Energy</td><td>19.03996</td></tr><tr><td>Trip RPD</td><td>0.16206</td></tr><tr><td>Trip Weighted RPD</td><td>0.16206</td></tr><tr><td>Trip RMSE</td><td>0.00617</td></tr><tr><td>Trip Norm RMSE</td><td>0.14991</td></tr></table>"
      ],
      "text/plain": [
       "====================================================\n",
       "Feature Set ID:                  speed_mph\n",
       "Target:                          gallons_fastsim\n",
       "Link RMSE                        0.002\n",
       "Link Norm RMSE                   1.026\n",
       "Link Weighted RPD                0.850\n",
       "Net Error                        -0.346\n",
       "Actual Dist/Energy               18.872\n",
       "Predicted Dist/Energy            28.876\n",
       "Real World Predicted Dist/Energy 24.765\n",
       "Trip RPD                         0.419\n",
       "Trip Weighted RPD                0.419\n",
       "Trip RMSE                        0.014\n",
       "Trip Norm RMSE                   0.346\n",
       "====================================================\n",
       "Feature Set ID:                  grade_dec&speed_mph\n",
       "Target:                          gallons_fastsim\n",
       "Link RMSE                        0.001\n",
       "Link Norm RMSE                   0.870\n",
       "Link Weighted RPD                0.614\n",
       "Net Error                        -0.165\n",
       "Actual Dist/Energy               18.872\n",
       "Predicted Dist/Energy            22.591\n",
       "Real World Predicted Dist/Energy 19.375\n",
       "Trip RPD                         0.179\n",
       "Trip Weighted RPD                0.179\n",
       "Trip RMSE                        0.007\n",
       "Trip Norm RMSE                   0.165\n",
       "====================================================\n",
       "Feature Set ID:                  grade_dec&road_class&speed_mph\n",
       "Target:                          gallons_fastsim\n",
       "Link RMSE                        0.001\n",
       "Link Norm RMSE                   0.874\n",
       "Link Weighted RPD                0.601\n",
       "Net Error                        -0.150\n",
       "Actual Dist/Energy               18.872\n",
       "Predicted Dist/Energy            22.201\n",
       "Real World Predicted Dist/Energy 19.040\n",
       "Trip RPD                         0.162\n",
       "Trip Weighted RPD                0.162\n",
       "Trip RMSE                        0.006\n",
       "Trip Norm RMSE                   0.150\n",
       "===================================================="
      ]
     },
     "execution_count": 16,
     "metadata": {},
     "output_type": "execute_result"
    }
   ],
   "source": [
    "test_vehicle.errors"
   ]
  },
  {
   "cell_type": "markdown",
   "metadata": {},
   "source": [
    "While this training dataset is far too small to draw real conclusions, these metrics can give you an idea of how well the model performed on a holdout test set (20% of the training data as we specificed by the `test_size` parameter in the configuration. "
   ]
  },
  {
   "cell_type": "markdown",
   "metadata": {},
   "source": [
    "Now, we can write the model to a json file that can be loaded later:\n",
    "\n",
    "```python\n",
    "test_vehicle.to_file(\"Test_Vehicle.json\")\n",
    "```"
   ]
  },
  {
   "cell_type": "code",
   "execution_count": null,
   "metadata": {},
   "outputs": [],
   "source": []
  }
 ],
 "metadata": {
  "kernelspec": {
   "display_name": "Python 3 (ipykernel)",
   "language": "python",
   "name": "python3"
  },
  "language_info": {
   "codemirror_mode": {
    "name": "ipython",
    "version": 3
   },
   "file_extension": ".py",
   "mimetype": "text/x-python",
   "name": "python",
   "nbconvert_exporter": "python",
   "pygments_lexer": "ipython3",
   "version": "3.10.12"
  },
  "widgets": {
   "application/vnd.jupyter.widget-state+json": {
    "state": {},
    "version_major": 2,
    "version_minor": 0
   }
  }
 },
 "nbformat": 4,
 "nbformat_minor": 4
}
