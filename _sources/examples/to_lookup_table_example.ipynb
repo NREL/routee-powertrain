{
 "cells": [
  {
   "cell_type": "markdown",
   "id": "9f29c4db",
   "metadata": {},
   "source": [
    "# Lookup Table Example\n",
    "\n",
    "This example demonstrates how to convert a Routee Powertrain model into a lookup table format.\n",
    "Lookup tables are useful for fast energy consumption predictions across a predefined grid of operating conditions."
   ]
  },
  {
   "cell_type": "code",
   "execution_count": null,
   "id": "dfc60a94",
   "metadata": {},
   "outputs": [],
   "source": [
    "\n",
    "import nrel.routee.powertrain as pt\n",
    "import numpy as np\n",
    "\n",
    "\n"
   ]
  },
  {
   "cell_type": "markdown",
   "id": "abc1da8b",
   "metadata": {},
   "source": [
    "## Loading Models\n",
    "\n",
    "First, let's load a few different models to demonstrate lookup table generation.\n",
    "We'll use models with different feature sets to show the flexibility of the approach."
   ]
  },
  {
   "cell_type": "code",
   "execution_count": null,
   "id": "eb1af8b5",
   "metadata": {},
   "outputs": [],
   "source": [
    "\n",
    "toyota_camry = pt.load_model(\"2016_TOYOTA_Camry_4cyl_2WD\")\n",
    "tesla_model3 = pt.load_model(\"2022_Tesla_Model_3_RWD\")\n",
    "tesla_with_temp = pt.load_model(\"2022_Tesla_Model_3_RWD_0F_110F_steady\")\n"
   ]
  },
  {
   "cell_type": "markdown",
   "id": "38236a63",
   "metadata": {},
   "source": [
    "Let's examine the available features and targets for each model."
   ]
  },
  {
   "cell_type": "code",
   "execution_count": null,
   "id": "ea0efa9a",
   "metadata": {},
   "outputs": [],
   "source": [
    "\n",
    "print(\"Toyota Camry features:\", toyota_camry.feature_set_lists)\n",
    "print(\"Toyota Camry targets:\", toyota_camry.metadata.config.target.target_name_list)\n",
    "print()\n",
    "print(\"Tesla Model 3 features:\", tesla_model3.feature_set_lists)\n",
    "print(\"Tesla Model 3 targets:\", tesla_model3.metadata.config.target.target_name_list)\n",
    "print()\n",
    "print(\"Tesla with Temperature features:\", tesla_with_temp.feature_set_lists)\n",
    "print(\n",
    "    \"Tesla with Temperature targets:\",\n",
    "    tesla_with_temp.metadata.config.target.target_name_list,\n",
    ")\n",
    "\n"
   ]
  },
  {
   "cell_type": "markdown",
   "id": "01241acd",
   "metadata": {},
   "source": [
    "## Single Feature Lookup Table\n",
    "\n",
    "Let's start with a simple single-feature lookup table using speed only.\n",
    "This creates a 1D lookup table showing how energy consumption varies with vehicle speed."
   ]
  },
  {
   "cell_type": "code",
   "execution_count": null,
   "id": "42193dcd",
   "metadata": {},
   "outputs": [],
   "source": [
    "\n",
    "# Define feature parameters for speed-only lookup\n",
    "speed_only_params = [\n",
    "    {\n",
    "        \"feature_name\": \"speed_mph\",\n",
    "        \"lower_bound\": 5.0,\n",
    "        \"upper_bound\": 80.0,\n",
    "        \"n_samples\": 16,  # Every 5 mph from 5 to 80\n",
    "    }\n",
    "]\n",
    "\n",
    "# Generate lookup table for Toyota Camry\n",
    "camry_speed_lookup = toyota_camry.to_lookup_table(\n",
    "    feature_parameters=speed_only_params,\n",
    "    energy_target=\"gge\",  # Gallons of gasoline equivalent\n",
    ")\n",
    "\n",
    "print(\"Single feature lookup table (first 5 rows):\")\n",
    "print(camry_speed_lookup.head())\n",
    "\n"
   ]
  },
  {
   "cell_type": "markdown",
   "id": "34bf13fb",
   "metadata": {},
   "source": [
    "## Two Feature Lookup Table\n",
    "\n",
    "Now let's create a more comprehensive 2D lookup table using both speed and grade.\n",
    "This shows how energy consumption varies with both vehicle speed and road grade."
   ]
  },
  {
   "cell_type": "code",
   "execution_count": null,
   "id": "42d47f3d",
   "metadata": {},
   "outputs": [],
   "source": [
    "\n",
    "# Define feature parameters for speed and grade\n",
    "speed_grade_params = [\n",
    "    {\n",
    "        \"feature_name\": \"speed_mph\",\n",
    "        \"lower_bound\": 25.0,\n",
    "        \"upper_bound\": 65.0,\n",
    "        \"n_samples\": 9,  # Every 5 mph from 25 to 65\n",
    "    },\n",
    "    {\n",
    "        \"feature_name\": \"grade_percent\",\n",
    "        \"lower_bound\": -6.0,\n",
    "        \"upper_bound\": 6.0,\n",
    "        \"n_samples\": 7,  # Every 2% grade from -6% to +6%\n",
    "    },\n",
    "]\n",
    "\n",
    "# Generate lookup table for Tesla Model 3\n",
    "tesla_speed_grade_lookup = tesla_model3.to_lookup_table(\n",
    "    feature_parameters=speed_grade_params,\n",
    "    energy_target=\"kwh\",\n",
    ")\n",
    "\n",
    "print(f\"Two feature lookup table shape: {tesla_speed_grade_lookup.shape}\")\n",
    "print(\"Sample rows:\")\n",
    "print(tesla_speed_grade_lookup.head(10))\n",
    "\n"
   ]
  },
  {
   "cell_type": "markdown",
   "id": "791b2701",
   "metadata": {},
   "source": [
    "## Three Feature Lookup Table with Temperature\n",
    "\n",
    "For models that include temperature, we can create a 3D lookup table.\n",
    "This is particularly useful for electric vehicles where temperature significantly affects range."
   ]
  },
  {
   "cell_type": "code",
   "execution_count": null,
   "id": "3cff3d73",
   "metadata": {},
   "outputs": [],
   "source": [
    "\n",
    "# Define feature parameters including temperature\n",
    "temp_params = [\n",
    "    {\n",
    "        \"feature_name\": \"speed_mph\",\n",
    "        \"lower_bound\": 35.0,\n",
    "        \"upper_bound\": 55.0,\n",
    "        \"n_samples\": 3,  # 35, 45, 55 mph\n",
    "    },\n",
    "    {\n",
    "        \"feature_name\": \"grade_percent\",\n",
    "        \"lower_bound\": -2.0,\n",
    "        \"upper_bound\": 4.0,\n",
    "        \"n_samples\": 4,  # -2%, 0%, 2%, 4%\n",
    "    },\n",
    "    {\n",
    "        \"feature_name\": \"ambient_temp_f\",\n",
    "        \"lower_bound\": 20.0,\n",
    "        \"upper_bound\": 80.0,\n",
    "        \"n_samples\": 4,  # 20°F, 40°F, 60°F, 80°F\n",
    "    },\n",
    "]\n",
    "\n",
    "# Generate lookup table with temperature\n",
    "tesla_temp_lookup = tesla_with_temp.to_lookup_table(\n",
    "    feature_parameters=temp_params,\n",
    "    energy_target=\"kwh\",\n",
    ")\n",
    "\n",
    "print(f\"Three feature lookup table shape: {tesla_temp_lookup.shape}\")\n",
    "print(\"Sample rows showing temperature effects:\")\n",
    "print(tesla_temp_lookup.head(12))\n",
    "\n"
   ]
  },
  {
   "cell_type": "markdown",
   "id": "d819166b",
   "metadata": {},
   "source": [
    "## Practical Usage: Interpolation for Route Prediction\n",
    "\n",
    "Lookup tables can be used for fast interpolation to predict energy consumption for specific driving conditions.\n",
    "Here's how you might use a lookup table for route prediction:"
   ]
  },
  {
   "cell_type": "code",
   "execution_count": null,
   "id": "2f39a4e0",
   "metadata": {},
   "outputs": [],
   "source": [
    "\n",
    "\n",
    "# Example: Using lookup table for fast prediction\n",
    "def interpolate_energy_from_lookup(lookup_table, speed, grade=None, temp=None):\n",
    "    if grade is None and temp is None:\n",
    "        # 1D interpolation for speed only\n",
    "        return np.interp(speed, lookup_table[\"speed_mph\"], lookup_table.iloc[:, -1])\n",
    "    else:\n",
    "        # For multi-dimensional interpolation, you'd typically use scipy.interpolate\n",
    "        # This is a simplified example\n",
    "        closest_row = lookup_table.iloc[\n",
    "            (lookup_table[\"speed_mph\"] - speed).abs().argsort()[:1]\n",
    "        ]\n",
    "        return closest_row.iloc[0, -1]\n",
    "\n",
    "\n",
    "# Example usage\n",
    "example_speed = 42.5\n",
    "predicted_energy = interpolate_energy_from_lookup(camry_speed_lookup, example_speed)\n",
    "print(\n",
    "    f\"Interpolated energy consumption at {example_speed} mph: {predicted_energy:.4f} gge/mile\"\n",
    ")\n",
    "\n"
   ]
  },
  {
   "cell_type": "markdown",
   "id": "dfe9b041",
   "metadata": {},
   "source": [
    "## Best Practices and Considerations\n",
    "\n",
    "When creating lookup tables, consider:\n",
    "\n",
    "1. **Resolution vs. Size**: More samples mean higher accuracy but larger tables\n",
    "2. **Feature Ranges**: Ensure your lookup table covers the expected operating conditions\n",
    "3. **Interpolation**: For values between grid points, you'll need interpolation\n",
    "4. **Memory Usage**: Large multi-dimensional tables can consume significant memory\n",
    "5. **Update Frequency**: Lookup tables are static - update them when models change\n",
    "\n",
    "## Use Cases\n",
    "\n",
    "Lookup tables are particularly useful for:\n",
    "- Real-time applications requiring fast predictions\n",
    "- Embedded systems with limited computational resources\n",
    "- Integration with external systems that can't run Python models directly"
   ]
  },
  {
   "cell_type": "code",
   "execution_count": null,
   "id": "a8689346",
   "metadata": {},
   "outputs": [],
   "source": [
    "\n"
   ]
  }
 ],
 "metadata": {},
 "nbformat": 4,
 "nbformat_minor": 5
}
